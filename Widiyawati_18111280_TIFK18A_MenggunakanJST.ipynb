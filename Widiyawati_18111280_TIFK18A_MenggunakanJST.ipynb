{
  "nbformat": 4,
  "nbformat_minor": 0,
  "metadata": {
    "colab": {
      "name": "Untitled0.ipynb",
      "provenance": [],
      "collapsed_sections": []
    },
    "kernelspec": {
      "name": "python3",
      "display_name": "Python 3"
    },
    "language_info": {
      "name": "python"
    }
  },
  "cells": [
    {
      "cell_type": "code",
      "metadata": {
        "id": "khqqy6ypnG-8"
      },
      "source": [
        "import numpy as np\n",
        "from matplotlib import pyplot as plt\n",
        " \n",
        "#fmungsi sigmoid\n",
        "def sigmoid(z):\n",
        "    return 1 / (1 + np.exp(-z))"
      ],
      "execution_count": null,
      "outputs": []
    },
    {
      "cell_type": "code",
      "metadata": {
        "id": "XKIqB4KinVzS"
      },
      "source": [
        "#inisialisasi parameter neural network \n",
        "#inisialisasi semua weights yang berada pada range 0 dan 1\n",
        "#semua bias diinisialisasikan 0\n",
        "def initializeParameters(inputFeatures, neuronsInHiddenLayers, outputFeatures):\n",
        "    weight1 = np.random.randn(neuronsInHiddenLayers, inputFeatures)\n",
        "    weight2 = np.random.randn(outputFeatures, neuronsInHiddenLayers)\n",
        "    bias1 = np.zeros((neuronsInHiddenLayers, 1))\n",
        "    bias2 = np.zeros((outputFeatures, 1))\n",
        "     \n",
        "    parameters = {\"weight1\" : weight1, \"bias1\": bias1,\n",
        "                  \"weight2\" : weight2, \"bias2\": bias2}\n",
        "    return parameters"
      ],
      "execution_count": null,
      "outputs": []
    },
    {
      "cell_type": "code",
      "metadata": {
        "id": "YleWp2ByooLV"
      },
      "source": [
        "#forward propagation\n",
        "def forwardPropagation(X, Y, parameters):\n",
        "    #x.shape untuk\n",
        "    m = X.shape[1]\n",
        "    weight1 = parameters[\"weight1\"]\n",
        "    weight2 = parameters[\"weight2\"]\n",
        "    bias1 = parameters[\"bias1\"]\n",
        "    bias2 = parameters[\"bias2\"]\n",
        " \n",
        "    #np.dot untuk\n",
        "    Z1 = np.dot(weight1, X) + bias1\n",
        "    A1 = sigmoid(Z1)\n",
        "    Z2 = np.dot(weight2, A1) + bias2\n",
        "    A2 = sigmoid(Z2)\n",
        " \n",
        "    cache = (Z1, A1, weight1, bias1, Z2, A2, weight2, bias2)\n",
        "    logprobs = np.multiply(np.log(A2), Y) + np.multiply(np.log(1 - A2), (1 - Y))\n",
        "    cost = -np.sum(logprobs) / m\n",
        "    return cost, cache, A2"
      ],
      "execution_count": null,
      "outputs": []
    },
    {
      "cell_type": "code",
      "metadata": {
        "id": "wdSFpKDZpkjm"
      },
      "source": [
        "#backward propagation\n",
        "def backwardPropagation(X, Y, cache):\n",
        "    m = X.shape[1]\n",
        "    (Z1, A1, weight1, bias1, Z2, A2, weight2, bias2) = cache\n",
        "     \n",
        "    dZ2 = A2 - Y\n",
        "    dW2 = np.dot(dZ2, A1.T) / m\n",
        "    db2 = np.sum(dZ2, axis = 1, keepdims = True)\n",
        "     \n",
        "    dA1 = np.dot(weight2.T, dZ2)\n",
        "    dZ1 = np.multiply(dA1, A1 * (1- A1))\n",
        "    dW1 = np.dot(dZ1, X.T) / m\n",
        "    db1 = np.sum(dZ1, axis = 1, keepdims = True) / m\n",
        "     \n",
        "    gradients = {\"dZ2\": dZ2, \"dW2\": dW2, \"db2\": db2,\n",
        "                 \"dZ1\": dZ1, \"dW1\": dW1, \"db1\": db1}\n",
        "    return gradients"
      ],
      "execution_count": null,
      "outputs": []
    },
    {
      "cell_type": "code",
      "metadata": {
        "id": "0epRgrIpqGic"
      },
      "source": [
        "#updating weights berasal dari negative gradients\n",
        "def updateParameters(parameters, gradients, learningRate):\n",
        "    parameters[\"weight1\"] = parameters[\"weight1\"] - learningRate * gradients[\"dW1\"]\n",
        "    parameters[\"weight2\"] = parameters[\"weight2\"] - learningRate * gradients[\"dW2\"]\n",
        "    parameters[\"bias1\"] = parameters[\"bias1\"] - learningRate * gradients[\"db1\"]\n",
        "    parameters[\"bias2\"] = parameters[\"bias2\"] - learningRate * gradients[\"db2\"]\n",
        "    return parameters"
      ],
      "execution_count": null,
      "outputs": []
    },
    {
      "cell_type": "code",
      "metadata": {
        "id": "_cSH3SaxrKqR"
      },
      "source": [
        "#Input 1: Nilai 1\n",
        "#Input 2: Nilai 2\n",
        "X = np.array([[6, 7, 8, 9], [6, 7, 8, 9]]) "
      ],
      "execution_count": null,
      "outputs": []
    },
    {
      "cell_type": "code",
      "metadata": {
        "id": "RLiSbqDtraLT"
      },
      "source": [
        "#Konversi IPK:\n",
        "#A: 0.9\n",
        "#B: 0.8\n",
        "#C: 0.7\n",
        "#D: 0.6\n",
        "\n",
        "Y = np.array([[0.6, 0.7, 0.8, 0.9]]) # XOR output"
      ],
      "execution_count": null,
      "outputs": []
    },
    {
      "cell_type": "code",
      "metadata": {
        "id": "Sfxn5GulrsRB"
      },
      "source": [
        "#definisi model parameters\n",
        "neuronsInHiddenLayers = 2 # number of hidden layer neurons (2)\n",
        "inputFeatures = X.shape[0] # number of input features (2)\n",
        "outputFeatures = Y.shape[0] # number of output features (1)\n",
        "parameters = initializeParameters(inputFeatures, neuronsInHiddenLayers, outputFeatures)\n",
        "epoch = 100000\n",
        "learningRate = 0.01\n",
        "losses = np.zeros((epoch, 1))\n",
        " \n",
        "for i in range(epoch):\n",
        "    losses[i, 0], cache, A2 = forwardPropagation(X, Y, parameters)\n",
        "    gradients = backwardPropagation(X, Y, cache)\n",
        "    parameters = updateParameters(parameters, gradients, learningRate)"
      ],
      "execution_count": null,
      "outputs": []
    },
    {
      "cell_type": "code",
      "metadata": {
        "colab": {
          "base_uri": "https://localhost:8080/",
          "height": 279
        },
        "id": "nLZxlxesr98u",
        "outputId": "300a2253-8b78-4459-8406-3cec28fd9f94"
      },
      "source": [
        "#evaluasi performance\n",
        "plt.figure()\n",
        "plt.plot(losses)\n",
        "plt.xlabel(\"EPOCHS\")\n",
        "plt.ylabel(\"Loss value\")\n",
        "plt.show()\n"
      ],
      "execution_count": null,
      "outputs": [
        {
          "output_type": "display_data",
          "data": {
            "image/png": "[encoded data removed]",
            "text/plain": [
              "<Figure size 432x288 with 1 Axes>"
            ]
          },
          "metadata": {
            "needs_background": "light"
          }
        }
      ]
    },
    {
      "cell_type": "code",
      "metadata": {
        "colab": {
          "base_uri": "https://localhost:8080/"
        },
        "id": "pyPsNqK_sKyC",
        "outputId": "83cb0896-0a41-427d-cd8b-b8b915f125ac"
      },
      "source": [
        "# Testing\n",
        "X = np.array([[6, 7, 8, 9], [6, 7, 8, 9]]) # XOR input\n",
        "cost, _, prediction = forwardPropagation(X, Y, parameters)\n",
        "print(prediction)"
      ],
      "execution_count": null,
      "outputs": [
        {
          "output_type": "stream",
          "name": "stdout",
          "text": [
            "[[0.60423893 0.71905608 0.80871681 0.86773266]]\n"
          ]
        }
      ]
    }
  ]
}