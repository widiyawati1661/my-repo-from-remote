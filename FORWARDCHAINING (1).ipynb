{
  "nbformat": 4,
  "nbformat_minor": 0,
  "metadata": {
    "colab": {
      "name": "FORWARDCHAINING.ipynb",
      "provenance": [],
      "collapsed_sections": []
    },
    "kernelspec": {
      "name": "python3",
      "display_name": "Python 3"
    },
    "language_info": {
      "name": "python"
    }
  },
  "cells": [
    {
      "cell_type": "code",
      "source": [
        "from google.colab import drive\n",
        "drive.mount('/content/drive')"
      ],
      "metadata": {
        "colab": {
          "base_uri": "https://localhost:8080/"
        },
        "id": "MJT5kjCztglk",
        "outputId": "ec95d4da-718b-417e-9688-7dee2d8249a1"
      },
      "execution_count": null,
      "outputs": [
        {
          "output_type": "stream",
          "name": "stdout",
          "text": [
            "Drive already mounted at /content/drive; to attempt to forcibly remount, call drive.mount(\"/content/drive\", force_remount=True).\n"
          ]
        }
      ]
    },
    {
      "cell_type": "code",
      "source": [
        "%cd '/content/drive/MyDrive/Forward_Chaining_18111280'"
      ],
      "metadata": {
        "colab": {
          "base_uri": "https://localhost:8080/"
        },
        "id": "lOElGagstkTV",
        "outputId": "09731164-b736-44ba-f747-f8648153701a"
      },
      "execution_count": null,
      "outputs": [
        {
          "output_type": "stream",
          "name": "stdout",
          "text": [
            "/content/drive/MyDrive/Forward_Chaining_18111280\n"
          ]
        }
      ]
    },
    {
      "cell_type": "code",
      "execution_count": null,
      "metadata": {
        "colab": {
          "base_uri": "https://localhost:8080/"
        },
        "id": "NEVmp9I4esQn",
        "outputId": "37139dc0-4273-46ea-922f-7799aa00bb87"
      },
      "outputs": [
        {
          "output_type": "stream",
          "name": "stdout",
          "text": [
            "Looking in indexes: https://pypi.org/simple, https://us-python.pkg.dev/colab-wheels/public/simple/\n",
            "Requirement already satisfied: pandas in /usr/local/lib/python3.7/dist-packages (1.3.5)\n",
            "Requirement already satisfied: numpy>=1.17.3 in /usr/local/lib/python3.7/dist-packages (from pandas) (1.21.6)\n",
            "Requirement already satisfied: pytz>=2017.3 in /usr/local/lib/python3.7/dist-packages (from pandas) (2022.1)\n",
            "Requirement already satisfied: python-dateutil>=2.7.3 in /usr/local/lib/python3.7/dist-packages (from pandas) (2.8.2)\n",
            "Requirement already satisfied: six>=1.5 in /usr/local/lib/python3.7/dist-packages (from python-dateutil>=2.7.3->pandas) (1.15.0)\n"
          ]
        }
      ],
      "source": [
        "!pip install pandas\n"
      ]
    },
    {
      "cell_type": "code",
      "source": [
        "import pandas as pd\n",
        "\n",
        "def loadGejala():\n",
        "\tgejala = pd.read_csv('/content/drive/MyDrive/Forward_Chaining_18111280/tb_gejala_latihan.csv', delimiter=\";\")\n",
        "\tgejala.drop('id', inplace=True, axis=1)\n",
        "\treturn gejala\n",
        "\t# print(gejala)\n",
        "\n",
        "def loadPenyakit():\n",
        "\tpenyakit = pd.read_csv('/content/drive/MyDrive/Forward_Chaining_18111280/tb_penyakit_latihan.csv', delimiter=\";\", index_col = 'id')\n",
        "\t# penyakit.drop('id', inplace=True, axis=1)\n",
        "\t# print(penyakit)\n",
        "\treturn penyakit\n",
        "\n",
        "def loadRule():\n",
        "\trule = pd.read_csv('/content/drive/MyDrive/Forward_Chaining_18111280/tb_rule_latihan.csv', delimiter=\";\", index_col = 'id')\n",
        "\treturn rule\n",
        "\n",
        "def getInput(message,response = []):\n",
        "\tif not response:\n",
        "\t\treturn input(message)\n",
        "\telse:\n",
        "\t\tresok = False\n",
        "\t\ttempres = None\n",
        "\t\twhile resok is not True:\n",
        "\t\t\ttempres = input(message)\n",
        "\t\t\tif tempres not in response:\n",
        "\t\t\t\tprint(\"silahkan masukan \",\"/\".join(response))\n",
        "\t\t\t\tresok = False\n",
        "\t\t\telse:\n",
        "\t\t\t\tresok = True\n",
        "\t\treturn tempres"
      ],
      "metadata": {
        "id": "vHX9feLOeydQ"
      },
      "execution_count": null,
      "outputs": []
    },
    {
      "cell_type": "code",
      "source": [
        "if __name__ == \"__main__\":\n",
        "\tgejala = loadGejala()\n",
        "\tpenyakit = loadPenyakit()\n",
        "\t# print(penyakit.loc[5,'penyakit'])\n",
        "\trules = loadRule()\n",
        "\tcheckRule = {}\n",
        "\tfor index, row in rules.iterrows():\n",
        "\t\t# print(index, row.to_dict())\n",
        "\t\tcheckRule[index]=row.to_dict()\n",
        "\tprint(\"\")\n",
        "\tprint(\"Halo! Saya adalah Do-bot, Saya akan mendiagnosa penyakit yang anda alami!\")\n",
        "\tprint(\"Oleh karena itu anda harus menjawab beberapa gejala yang anda alami\")\n",
        "\tprint(\"Apakah anda merasakan beberapa gejala dibawah ini(y/t):\")\n",
        "\tprint(\"\")\n",
        "\tinput(\"tekan enter untuk melanjutkan\")\n",
        "\t\n",
        "\t\n",
        "\tresGejala = {}\n",
        "\n",
        "\tfor index, row in gejala.iterrows():\n",
        "\t\tans = getInput(str(index+1)+\". \"+row['gejala'].strip()+\" ? \",['y','t'])\n",
        "\t\tif ans.lower() == 'y':\n",
        "\t\t\tresGejala[row['kode']]=1\n",
        "\t\telse:\n",
        "\t\t\tresGejala[row['kode']]=0\n",
        "\n",
        "\tfidx = None\n",
        "\t# print(resGejala)\n",
        "\tfor c in checkRule.keys():\n",
        "\t\tif resGejala == checkRule[c]:\n",
        "\t\t\tfidx = c\n",
        "\tif fidx is not None:\n",
        "\t\tprint(\"\")\n",
        "\t\t# print(penyakit.iloc[[fidx,0]],penyakit.iloc[[fidx,1]],penyakit.iloc[[fidx,2]])\n",
        "\t\tprint(\"Anda Teridentifikasi Menderita \")\n",
        "\t\tprint(penyakit.loc[fidx,'penyakit'])\n",
        "\t\tprint(\"\")\n",
        "\t\tprint(penyakit.loc[fidx,'info'])\n",
        "\t\tprint(\"\")\n",
        "\t\tprint(\"Penanganan\")\n",
        "\t\tprint(penyakit.loc[fidx,'solusi'])\n",
        "\telse:\n",
        "\t\tprint(\"Maaf penyakit anda tidak terdeteksi\")"
      ],
      "metadata": {
        "colab": {
          "base_uri": "https://localhost:8080/",
          "height": 235
        },
        "id": "4_Oq86zRfPAO",
        "outputId": "eb07e54b-d9e8-4ea4-d74e-0f562224619e"
      },
      "execution_count": null,
      "outputs": [
        {
          "output_type": "error",
          "ename": "NameError",
          "evalue": "ignored",
          "traceback": [
            "\u001b[0;31m---------------------------------------------------------------------------\u001b[0m",
            "\u001b[0;31mNameError\u001b[0m                                 Traceback (most recent call last)",
            "\u001b[0;32m<ipython-input-1-05b29a95384d>\u001b[0m in \u001b[0;36m<module>\u001b[0;34m()\u001b[0m\n\u001b[1;32m      1\u001b[0m \u001b[0;32mif\u001b[0m \u001b[0m__name__\u001b[0m \u001b[0;34m==\u001b[0m \u001b[0;34m\"__main__\"\u001b[0m\u001b[0;34m:\u001b[0m\u001b[0;34m\u001b[0m\u001b[0;34m\u001b[0m\u001b[0m\n\u001b[0;32m----> 2\u001b[0;31m         \u001b[0mgejala\u001b[0m \u001b[0;34m=\u001b[0m \u001b[0mloadGejala\u001b[0m\u001b[0;34m(\u001b[0m\u001b[0;34m)\u001b[0m\u001b[0;34m\u001b[0m\u001b[0;34m\u001b[0m\u001b[0m\n\u001b[0m\u001b[1;32m      3\u001b[0m         \u001b[0mpenyakit\u001b[0m \u001b[0;34m=\u001b[0m \u001b[0mloadPenyakit\u001b[0m\u001b[0;34m(\u001b[0m\u001b[0;34m)\u001b[0m\u001b[0;34m\u001b[0m\u001b[0;34m\u001b[0m\u001b[0m\n\u001b[1;32m      4\u001b[0m         \u001b[0;31m# print(penyakit.loc[5,'penyakit'])\u001b[0m\u001b[0;34m\u001b[0m\u001b[0;34m\u001b[0m\u001b[0;34m\u001b[0m\u001b[0m\n\u001b[1;32m      5\u001b[0m         \u001b[0mrules\u001b[0m \u001b[0;34m=\u001b[0m \u001b[0mloadRule\u001b[0m\u001b[0;34m(\u001b[0m\u001b[0;34m)\u001b[0m\u001b[0;34m\u001b[0m\u001b[0;34m\u001b[0m\u001b[0m\n",
            "\u001b[0;31mNameError\u001b[0m: name 'loadGejala' is not defined"
          ]
        }
      ]
    },
    {
      "cell_type": "code",
      "source": [
        ""
      ],
      "metadata": {
        "id": "S7-FkoG0f5U_"
      },
      "execution_count": null,
      "outputs": []
    }
  ]
}