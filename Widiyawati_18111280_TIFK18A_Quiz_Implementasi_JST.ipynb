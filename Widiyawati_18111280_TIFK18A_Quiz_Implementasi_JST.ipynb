{
  "nbformat": 4,
  "nbformat_minor": 0,
  "metadata": {
    "colab": {
      "name": "Untitled1.ipynb",
      "provenance": []
    },
    "kernelspec": {
      "name": "python3",
      "display_name": "Python 3"
    },
    "language_info": {
      "name": "python"
    }
  },
  "cells": [
    {
      "cell_type": "code",
      "metadata": {
        "id": "FXvNP7ezbm1U"
      },
      "source": [
        "import numpy as np"
      ],
      "execution_count": 687,
      "outputs": []
    },
    {
      "cell_type": "code",
      "metadata": {
        "id": "125rwMldbw3R"
      },
      "source": [
        "#definisi input\n",
        "input_features = np.array([[0,0],[0,1],[1,0],[1,1]])"
      ],
      "execution_count": 688,
      "outputs": []
    },
    {
      "cell_type": "code",
      "metadata": {
        "id": "ExxiwrwGj3Dz"
      },
      "source": [
        "#definisi target output\n",
        "target_output = np.array([[0],[1],[1],[1]])"
      ],
      "execution_count": 689,
      "outputs": []
    },
    {
      "cell_type": "code",
      "metadata": {
        "id": "2kqSMUkZcKRd"
      },
      "source": [
        "#definisi weights\n",
        "weights = np.array([[0,1],[0,2]])"
      ],
      "execution_count": 690,
      "outputs": []
    },
    {
      "cell_type": "code",
      "metadata": {
        "id": "Ql2cyRVmcbpE"
      },
      "source": [
        "#definisi bias\n",
        "bias = 1"
      ],
      "execution_count": 691,
      "outputs": []
    },
    {
      "cell_type": "code",
      "metadata": {
        "id": "xkXP6jb-ch-m"
      },
      "source": [
        "#definisi learning rate\n",
        "lr = 0.78"
      ],
      "execution_count": 692,
      "outputs": []
    },
    {
      "cell_type": "code",
      "metadata": {
        "id": "ATf4ljLBcmHR"
      },
      "source": [
        "#function sigmoid\n",
        "def sigmoid(x):\n",
        "  return 1/(1+np.exp(-x))"
      ],
      "execution_count": 694,
      "outputs": []
    },
    {
      "cell_type": "code",
      "metadata": {
        "id": "CSgz7MxCc12K"
      },
      "source": [
        "#derivatif dari function sigmoid\n",
        "def sigmoid_der(x):\n",
        "  return sigmoid(x)*(1-sigmoid(x))"
      ],
      "execution_count": 695,
      "outputs": []
    },
    {
      "cell_type": "code",
      "metadata": {
        "id": "Z-Mt3gUQdT2_"
      },
      "source": [
        "#main logic\n",
        "for epoch in range(500):\n",
        "  inputs = input_features"
      ],
      "execution_count": 696,
      "outputs": []
    },
    {
      "cell_type": "code",
      "metadata": {
        "id": "ozH5C6sEeQRp"
      },
      "source": [
        "#input feedforward\n",
        "in_o = np.dot(inputs,weights) + bias"
      ],
      "execution_count": 697,
      "outputs": []
    },
    {
      "cell_type": "code",
      "metadata": {
        "id": "PFyvpudEefgf"
      },
      "source": [
        "#output feedforward\n",
        "out_o = sigmoid(in_o)"
      ],
      "execution_count": 698,
      "outputs": []
    },
    {
      "cell_type": "code",
      "metadata": {
        "id": "q0mBg_DhgDhI"
      },
      "source": [
        "#backpropagation\n",
        "#kalkulasi eror\n",
        "error = out_o - target_output\n",
        "x= error.sum()"
      ],
      "execution_count": 699,
      "outputs": []
    },
    {
      "cell_type": "code",
      "metadata": {
        "id": "FmuhNSnLglDX"
      },
      "source": [
        "#kalkulasi derivatif\n",
        "derr_dout = error\n",
        "dout_din = sigmoid_der(out_o)\n",
        "deriv = derr_dout * dout_din\n",
        "\n",
        "inputs = input_features.T\n",
        "deriv_final = np.dot(inputs, deriv)"
      ],
      "execution_count": 700,
      "outputs": []
    },
    {
      "cell_type": "code",
      "metadata": {
        "colab": {
          "base_uri": "https://localhost:8080/"
        },
        "id": "D9h57p1Jg68Q",
        "outputId": "485b5c51-77e9-4f94-d97f-000411789313"
      },
      "source": [
        "#update weights\n",
        "weights = lr * deriv_final\n",
        "print (weights)"
      ],
      "execution_count": 701,
      "outputs": [
        {
          "output_type": "stream",
          "name": "stdout",
          "text": [
            "[[-0.09203297 -0.02204219]\n",
            " [-0.09203297 -0.01021211]]\n"
          ]
        }
      ]
    },
    {
      "cell_type": "code",
      "metadata": {
        "colab": {
          "base_uri": "https://localhost:8080/"
        },
        "id": "dlnDENNkhSSh",
        "outputId": "4488434e-b4d0-4ba9-8b66-d76755e132d1"
      },
      "source": [
        "#update bias weights\n",
        "for i in deriv:\n",
        "  bias -= lr*i\n",
        "print(bias)"
      ],
      "execution_count": 702,
      "outputs": [
        {
          "output_type": "stream",
          "name": "stdout",
          "text": [
            "[1.01296368 0.90438737]\n"
          ]
        }
      ]
    },
    {
      "cell_type": "code",
      "metadata": {
        "id": "Mhij0fmll3pQ"
      },
      "source": [
        "#simpan nilai bias dan weights terakhir dan mengganti nilai pada testing\n",
        "#mengambil input\n",
        "single_point = np.array ([1,0])"
      ],
      "execution_count": 703,
      "outputs": []
    },
    {
      "cell_type": "code",
      "metadata": {
        "colab": {
          "base_uri": "https://localhost:8080/"
        },
        "id": "Tqk-9NR5mH8i",
        "outputId": "7c5c4bd2-7a96-47cb-f330-5e7e113cc4ed"
      },
      "source": [
        "#step1\n",
        "result1 = np.dot(single_point, weights) + bias\n",
        "#step2\n",
        "result2 = sigmoid(result1)\n",
        "print (result2)"
      ],
      "execution_count": 704,
      "outputs": [
        {
          "output_type": "stream",
          "name": "stdout",
          "text": [
            "[0.71523171 0.70730796]\n"
          ]
        }
      ]
    }
  ]
}