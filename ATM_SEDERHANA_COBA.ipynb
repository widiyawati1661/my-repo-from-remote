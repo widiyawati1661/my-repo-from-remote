{
  "nbformat": 4,
  "nbformat_minor": 0,
  "metadata": {
    "colab": {
      "name": "ATM SEDERHANA COBA.ipynb",
      "provenance": [],
      "collapsed_sections": [],
      "toc_visible": true
    },
    "kernelspec": {
      "name": "python3",
      "display_name": "Python 3"
    },
    "language_info": {
      "name": "python"
    }
  },
  "cells": [
    {
      "cell_type": "code",
      "execution_count": null,
      "metadata": {
        "colab": {
          "base_uri": "https://localhost:8080/"
        },
        "id": "UcymuJL3hUml",
        "outputId": "21f480c5-1d3b-4896-f6d2-0b3881f31547"
      },
      "outputs": [
        {
          "output_type": "stream",
          "name": "stdout",
          "text": [
            "Selamat Datang\n",
            "Pilih Opsi\n",
            "1. Cek Total Tabungan\n",
            "2. Tarik Tunai\n",
            "3. Setor Tunai\n",
            "4. Batal\n",
            "< KEMBALI\n",
            "KELUAR >\n",
            "Masukan input pilihan: 3\n",
            "Total Tabungan Anda berjumlah Rp. 1000000 .,\n",
            "PILIH NOMINAL\n",
            "1. Rp 50.000\n",
            "2. Rp 100.000\n",
            "3. Rp 500.000\n",
            "4. Lainnya\n",
            "Masukan input pilihan: 4\n",
            "Masukan Nominal Rp. 44000000\n",
            "Berhasil Lakukan Setor Tunai\n",
            "Sisa Tabungan Anda Rp.  45000000 .,\n"
          ]
        }
      ],
      "source": [
        "print(\"Selamat Datang\");\n",
        "print(\"Pilih Opsi\");\n",
        "print(\"1. Cek Total Tabungan\");\n",
        "print(\"2. Tarik Tunai\");\n",
        "print(\"3. Setor Tunai\");\n",
        "print(\"4. Batal\");\n",
        "print(\"< KEMBALI\");\n",
        "print(\"KELUAR >\");\n",
        "opsi=int(input(\"Masukan input pilihan: \"))\n",
        "uang_saldo=1000000\n",
        "if opsi==1:\n",
        "  print(\"Total Tabungan Anda Rp. \" , uang_saldo , \".,\")\n",
        "elif opsi==2:\n",
        "  print(\"Total Tabungan Anda berjumlah Rp.\" , uang_saldo , \".,\")\n",
        "  print(\"PILIH NOMINAL\");\n",
        "  print(\"1. Rp 50.000\")\n",
        "  print(\"2. Rp 100.000\")\n",
        "  print(\"3. Rp 500.000\")\n",
        "  print(\"4. Lainnya\")\n",
        "  tarik_tunai= int(input(\"Masukan input pilihan: \"))\n",
        "  if tarik_tunai==1:\n",
        "    sisa_tarik_tunai1=uang_saldo+50000\n",
        "    print(\"Berhasil Lakukan Tarik Tunai\")\n",
        "    print(\"Sisa Tabungan Anda Rp. \" , sisa_tarik_tunai1 , \".,\")\n",
        "  if tarik_tunai==2:\n",
        "    sisa_tarik_tunai2=uang_saldo+100000\n",
        "    print(\"Berhasil Lakukan Tarik Tunai\")\n",
        "    print(\"Sisa Tabungan Anda Rp. \" , sisa_tarik_tunai2 , \".,\")\n",
        "  if tarik_tunai==3:\n",
        "    sisa_tarik_tunai3=uang_saldo+500000\n",
        "    print(\"Berhasil Lakukan Tarik Tunai\")\n",
        "    print(\"Sisa Tabungan Anda Rp. \" , sisa_tarik_tunai3 , \".,\")\n",
        "  if tarik_tunai==4:\n",
        "    tarik_tunai_lainnya= int(input(\"Masukan Nominal Rp. \"))\n",
        "    sisa_tarik_tunai4=uang_saldo+tarik_tunai_lainnya\n",
        "    print(\"Berhasil Lakukan Tarik Tunai\")\n",
        "    print(\"Sisa Tabungan Anda Rp. \" , sisa_tarik_tunai4 , \".,\")\n",
        "elif opsi==3:\n",
        "  print(\"Total Tabungan Anda berjumlah Rp.\" , uang_saldo , \".,\")\n",
        "  print(\"PILIH NOMINAL\");\n",
        "  print(\"1. Rp 50.000\")\n",
        "  print(\"2. Rp 100.000\")\n",
        "  print(\"3. Rp 500.000\")\n",
        "  print(\"4. Lainnya\")\n",
        "  setor_tunai= int(input(\"Masukan input pilihan: \"))\n",
        "  if setor_tunai==1:\n",
        "    total_setor_tunai1=uang_saldo+50000\n",
        "    print(\"Berhasil Lakukan Setor Tunai\")\n",
        "    print(\"Sisa Tabungan Anda Rp. \" , total_setor_tunai1 , \".,\")\n",
        "  if setor_tunai==2:\n",
        "    total_setor_tunai2=uang_saldo+100000\n",
        "    print(\"Berhasil Lakukan Setor Tunai\")\n",
        "    print(\"Sisa Tabungan Anda Rp. \" , total_setor_tunai2 , \".,\")\n",
        "  if setor_tunai==3:\n",
        "    total_setor_tunai3=uang_saldo+500000\n",
        "    print(\"Berhasil Lakukan Setor Tunai\")\n",
        "    print(\"Sisa Tabungan Anda Rp. \" , total_setor_tunai3 , \".,\")\n",
        "  if setor_tunai==4:\n",
        "    setor_tunai_lainnya= int(input(\"Masukan Nominal Rp. \"))\n",
        "    total_setor_tunai4=uang_saldo+setor_tunai_lainnya\n",
        "    print(\"Berhasil Lakukan Setor Tunai\")\n",
        "    print(\"Sisa Tabungan Anda Rp. \" , total_setor_tunai4 , \".,\")\n",
        "elif opsi==4:\n",
        "  print(\"Transaksi selesai segera ambil kartu Anda. Terimakasih.\")\n",
        "\n",
        "    \n"
      ]
    }
  ]
}