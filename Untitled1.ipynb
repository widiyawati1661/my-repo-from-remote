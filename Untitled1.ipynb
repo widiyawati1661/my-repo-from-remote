{
  "nbformat": 4,
  "nbformat_minor": 0,
  "metadata": {
    "colab": {
      "name": "Untitled1.ipynb",
      "provenance": [],
      "collapsed_sections": []
    },
    "kernelspec": {
      "name": "python3",
      "display_name": "Python 3"
    },
    "language_info": {
      "name": "python"
    }
  },
  "cells": [
    {
      "cell_type": "code",
      "metadata": {
        "id": "z4ZtKjg2oYlL"
      },
      "source": [
        "#import numpy\n",
        "import numpy as np"
      ],
      "execution_count": 125,
      "outputs": []
    },
    {
      "cell_type": "code",
      "metadata": {
        "id": "BZ21s_kQojO9"
      },
      "source": [
        "#masukan input\n",
        "#input 0 = marah\n",
        "#input 1 = waspada\n",
        "#input 2 = diam\n",
        "#input\n",
        "\n",
        "#kombinasi input = 0,1 output 1\n",
        "#kombinasi input = 1,2 output 0\n",
        "#kombinasi input = 0,2 output 1\n",
        "\n",
        "#output 0 = hewan jinak\n",
        "#output 1 = hewan buas\n",
        "\n",
        "\n",
        "#inputkan value\n",
        "#inputFeatures = np.array([[0,0],[0,1],[0,2],[1,0],[1,1],[1,2],[2,0],[2,1],[2,2]])\n",
        "inputFeatures = np.array([[0,0],[0,1],[1,0],[1,1]])\n",
        "#targetOutput = np.array([[0],[1],[2]])\n",
        "targetOutput = np.array([[0],[0.9],[0.9],[1]])\n",
        "weights = np.array([[0.1],[0.2]])"
      ],
      "execution_count": 127,
      "outputs": []
    },
    {
      "cell_type": "code",
      "metadata": {
        "id": "uqjmHpvdsT0b"
      },
      "source": [
        "#input tipe binatang\n",
        "binatang1 = 0\n",
        "binatang2 = 1\n",
        "#binatang3 = 2"
      ],
      "execution_count": 128,
      "outputs": []
    },
    {
      "cell_type": "code",
      "metadata": {
        "id": "azxYVVprsx4Z"
      },
      "source": [
        "#variabel input binatang simpan val\n",
        "tipeBinatang = \"B1\""
      ],
      "execution_count": 129,
      "outputs": []
    },
    {
      "cell_type": "code",
      "metadata": {
        "id": "zV6nYL-Xs_9u"
      },
      "source": [
        "#nilai bias diubah nol\n",
        "bias = 0 "
      ],
      "execution_count": 130,
      "outputs": []
    },
    {
      "cell_type": "code",
      "metadata": {
        "id": "NlBlgc75tOUA"
      },
      "source": [
        "#set learning rate\n",
        "lr = 2"
      ],
      "execution_count": 131,
      "outputs": []
    },
    {
      "cell_type": "code",
      "metadata": {
        "id": "rrJX-AwCtT4w"
      },
      "source": [
        "#fungsi simgmoid\n",
        "def sigmoid(x):\n",
        "  return 1/(1+np.exp(-x))\n",
        "  \n",
        "#derivasi\n",
        "def sigmoid_der(x):\n",
        "  return sigmoid(x)*(1-sigmoid(x))\n"
      ],
      "execution_count": 132,
      "outputs": []
    },
    {
      "cell_type": "code",
      "metadata": {
        "id": "1ugs2mG6t4fe"
      },
      "source": [
        "#mulai mengecek dari hasil input\n",
        "def cekTipeBinatang():\n",
        "  if hasil2 < 0.1 :\n",
        "    tipeBinatang = \"B1\"\n",
        "    print(tipeBinatang)\n",
        "    print(\"Tipe binatang ini adalah Binatang Jinak\")\n",
        "  elif hasil2 < 0.4 :\n",
        "    tipeBinatang = \"B2\"\n",
        "    print(tipeBinatang)\n",
        "    print(\"Tipe binatang ini adalah Binatang Jinak\")\n",
        "  elif hasil2 > 0.6 :\n",
        "    tipeBinatang = \"B3\"\n",
        "    print(tipeBinatang)\n",
        "    print(\"Tipe binatang ini adalah Binatang Buas\")\n",
        "  elif hasil2 > 0.9 :\n",
        "    tipeBinatang = \"B4\"\n",
        "    print(tipeBinatang)\n",
        "    print(\"Tipe binatang ini adalah Binatang Buas\")\n",
        "    \n",
        "\n"
      ],
      "execution_count": 136,
      "outputs": []
    },
    {
      "cell_type": "code",
      "metadata": {
        "id": "rET11GukvP5j"
      },
      "source": [
        "#set epoch\n",
        "for epoch in range(10000):\n",
        "  inputs = inputFeatures\n",
        "  in_o = np.dot(inputs, weights) + bias\n",
        "  out_o = sigmoid(in_o)\n",
        "  error = out_o - targetOutput\n",
        "  x = error.sum()\n",
        "\n",
        "  derr_dout = error\n",
        "  dout_din = sigmoid_der(out_o)\n",
        "  deriv = derr_dout * dout_din\n",
        "\n",
        "  inputs = inputFeatures.T\n",
        "  deriv_final = np.dot(inputs, deriv)\n",
        "\n",
        "\n",
        "  weights -= lr * deriv_final\n",
        "  #print(weights)\n",
        "\n",
        "  for i in deriv:\n",
        "    bias -= lr * i\n",
        "  #print(bias)\n"
      ],
      "execution_count": 137,
      "outputs": []
    },
    {
      "cell_type": "code",
      "metadata": {
        "colab": {
          "base_uri": "https://localhost:8080/"
        },
        "id": "FJUfkc0o376n",
        "outputId": "ba145349-7964-41ac-e893-183731c3e299"
      },
      "source": [
        "singlePoint = np.array([binatang1, binatang2])\n",
        "hasil1 = np.dot(singlePoint, weights) + bias\n",
        "hasil2 = sigmoid(hasil1)\n",
        "print(hasil2)\n",
        "cekTipeBinatang()\n",
        "#hasilTipeBinatang()"
      ],
      "execution_count": 138,
      "outputs": [
        {
          "output_type": "stream",
          "name": "stdout",
          "text": [
            "[0.89988096]\n",
            "B3\n",
            "Tipe binatang ini adalah Binatang Buas\n"
          ]
        }
      ]
    }
  ]
}