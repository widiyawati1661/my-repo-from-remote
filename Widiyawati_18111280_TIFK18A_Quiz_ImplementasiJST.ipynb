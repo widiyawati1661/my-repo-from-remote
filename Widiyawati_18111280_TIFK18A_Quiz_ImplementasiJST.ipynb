{
  "nbformat": 4,
  "nbformat_minor": 0,
  "metadata": {
    "colab": {
      "name": "Untitled1.ipynb",
      "provenance": []
    },
    "kernelspec": {
      "name": "python3",
      "display_name": "Python 3"
    },
    "language_info": {
      "name": "python"
    }
  },
  "cells": [
    {
      "cell_type": "code",
      "metadata": {
        "id": "FXvNP7ezbm1U"
      },
      "source": [
        "import numpy as np"
      ],
      "execution_count": 456,
      "outputs": []
    },
    {
      "cell_type": "code",
      "metadata": {
        "id": "125rwMldbw3R"
      },
      "source": [
        "input_features = np.array([[0,0],[0,1],[1,0],[1,1]])"
      ],
      "execution_count": 457,
      "outputs": []
    },
    {
      "cell_type": "code",
      "metadata": {
        "id": "ExxiwrwGj3Dz"
      },
      "source": [
        "target_output = np.array([[0],[1],[1],[1]])"
      ],
      "execution_count": 458,
      "outputs": []
    },
    {
      "cell_type": "code",
      "metadata": {
        "id": "2kqSMUkZcKRd"
      },
      "source": [
        "weights = np.array([[0,1],[0,2]])"
      ],
      "execution_count": 459,
      "outputs": []
    },
    {
      "cell_type": "code",
      "metadata": {
        "id": "Ql2cyRVmcbpE"
      },
      "source": [
        "bias = 1"
      ],
      "execution_count": 673,
      "outputs": []
    },
    {
      "cell_type": "code",
      "metadata": {
        "id": "xkXP6jb-ch-m"
      },
      "source": [
        "lr = 0.78"
      ],
      "execution_count": 674,
      "outputs": []
    },
    {
      "cell_type": "code",
      "metadata": {
        "id": "ATf4ljLBcmHR"
      },
      "source": [
        "def sigmoid(x):\n",
        "  return 1/(1+np.exp(-x))"
      ],
      "execution_count": 675,
      "outputs": []
    },
    {
      "cell_type": "code",
      "metadata": {
        "id": "CSgz7MxCc12K"
      },
      "source": [
        "def sigmoid_der(x):\n",
        "  return sigmoid(x)*(1-sigmoid(x))"
      ],
      "execution_count": 676,
      "outputs": []
    },
    {
      "cell_type": "code",
      "metadata": {
        "id": "Z-Mt3gUQdT2_"
      },
      "source": [
        "for epoch in range(500):\n",
        "  inputs = input_features"
      ],
      "execution_count": 677,
      "outputs": []
    },
    {
      "cell_type": "code",
      "metadata": {
        "id": "ozH5C6sEeQRp"
      },
      "source": [
        "in_o = np.dot(inputs,weights) + bias"
      ],
      "execution_count": 678,
      "outputs": []
    },
    {
      "cell_type": "code",
      "metadata": {
        "id": "PFyvpudEefgf"
      },
      "source": [
        "out_o = sigmoid(in_o)"
      ],
      "execution_count": 679,
      "outputs": []
    },
    {
      "cell_type": "code",
      "metadata": {
        "id": "q0mBg_DhgDhI"
      },
      "source": [
        "#backpropagation\n",
        "error = out_o - target_output\n",
        "x= error.sum()"
      ],
      "execution_count": 680,
      "outputs": []
    },
    {
      "cell_type": "code",
      "metadata": {
        "id": "FmuhNSnLglDX"
      },
      "source": [
        "derr_dout = error\n",
        "dout_din = sigmoid_der(out_o)\n",
        "deriv = derr_dout * dout_din\n",
        "\n",
        "inputs = input_features.T\n",
        "deriv_final = np.dot(inputs, deriv)"
      ],
      "execution_count": 681,
      "outputs": []
    },
    {
      "cell_type": "code",
      "metadata": {
        "colab": {
          "base_uri": "https://localhost:8080/"
        },
        "id": "D9h57p1Jg68Q",
        "outputId": "64be1773-feba-4212-b2b6-880846d7a15c"
      },
      "source": [
        "weights = lr * deriv_final\n",
        "print (weights)"
      ],
      "execution_count": 682,
      "outputs": [
        {
          "output_type": "stream",
          "name": "stdout",
          "text": [
            "[[-0.11575095 -0.11575095]\n",
            " [-0.11575095 -0.11575095]]\n"
          ]
        }
      ]
    },
    {
      "cell_type": "code",
      "metadata": {
        "colab": {
          "base_uri": "https://localhost:8080/"
        },
        "id": "dlnDENNkhSSh",
        "outputId": "8b4339a6-5e2b-46cf-9242-6c27933f4d7c"
      },
      "source": [
        "for i in deriv:\n",
        "  bias -= lr*i\n",
        "print(bias)"
      ],
      "execution_count": 683,
      "outputs": [
        {
          "output_type": "stream",
          "name": "stdout",
          "text": [
            "[1.04433037 1.04433037]\n"
          ]
        }
      ]
    },
    {
      "cell_type": "code",
      "metadata": {
        "id": "Mhij0fmll3pQ"
      },
      "source": [
        "single_point = np.array ([1,0])"
      ],
      "execution_count": 684,
      "outputs": []
    },
    {
      "cell_type": "code",
      "metadata": {
        "colab": {
          "base_uri": "https://localhost:8080/"
        },
        "id": "Tqk-9NR5mH8i",
        "outputId": "5d308f8a-bec4-4ddc-dcab-576e046efee0"
      },
      "source": [
        "result1 = np.dot(single_point, weights) + bias\n",
        "\n",
        "result2 = sigmoid(result1)\n",
        "\n",
        "print (result2)"
      ],
      "execution_count": 686,
      "outputs": [
        {
          "output_type": "stream",
          "name": "stdout",
          "text": [
            "[0.71678699 0.71678699]\n"
          ]
        }
      ]
    }
  ]
}